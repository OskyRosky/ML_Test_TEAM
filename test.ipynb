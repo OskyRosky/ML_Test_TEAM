{
 "cells": [
  {
   "cell_type": "markdown",
   "metadata": {
    "collapsed": false,
    "pycharm": {
     "name": "#%% md\n"
    }
   },
   "source": [
    "# Team International Tech interview Test"
   ]
  },
  {
   "cell_type": "markdown",
   "metadata": {
    "collapsed": false,
    "pycharm": {
     "name": "#%% md\n"
    }
   },
   "source": [
    "The aim of this test is to test different abilities in the management of data and creation of Machine Learning models. Thus, the data presented includes information on a different working shifts in a production plant. Also, personal information from each worker is presented. You'll work throughout this test with the excel file \"testData.xlsx\"."
   ]
  },
  {
   "cell_type": "markdown",
   "metadata": {
    "collapsed": false,
    "pycharm": {
     "name": "#%% md\n"
    }
   },
   "source": [
    "### Exploratory data analysis"
   ]
  },
  {
   "cell_type": "markdown",
   "metadata": {
    "collapsed": false,
    "pycharm": {
     "name": "#%% md\n"
    }
   },
   "source": [
    "During this section, you'll need to address different questions using mostly pandas and numpy to address the following questions (Feel free to use also visualization tools such as matplotlib, seaborn or plotly):\n",
    "\n",
    "1. Join the two datasets to build a new pandas dataframe called \"database\". This one will be used to create a machine learning model.\n",
    "2. Which employee has more absences? (Do it in pandas and show in a string which would be the SQL syntax)\n",
    "3. Are there any correlated columns among the \"database\" data frame?\n",
    "4. Determine which are the top ten reasons and transportation methods for absence at work. (Do it in pandas and show in a string which would be the SQL syntax)\n",
    "5. Create two KPIs that can be a clear target in assessing absences in the company (feel free to create plots using any plotting library)\n"
   ]
  },
  {
   "cell_type": "markdown",
   "metadata": {
    "collapsed": false,
    "pycharm": {
     "name": "#%% md\n"
    }
   },
   "source": [
    "### Machine Learning"
   ]
  },
  {
   "cell_type": "markdown",
   "metadata": {
    "collapsed": false,
    "pycharm": {
     "name": "#%% md\n"
    }
   },
   "source": [
    "In this section, the client asked you to determine which is the probability of absence of any given worker. For this, you'll split your dataset into training and testing objects using the seed 22. Answer the following questions using the sklearn, pandas and numpy packages.\n",
    "\n",
    "5. Create a function to extract the dummy variables from the \"database\" data frame.\n",
    "6. Create a function that splits the dataset into train and test using seed 22.\n",
    "7. Which variables would you use to determine the probability of absence from a worker?\n",
    "8. Using sklearn, create a model that predicts the *probability* of absence of any given worker. Describe why did you choose that model (Include metrics and plots to support your answer).\n",
    "9. Are there any variables that you'd like to add?"
   ]
  },
  {
   "cell_type": "code",
   "execution_count": 1,
   "metadata": {
    "collapsed": false,
    "pycharm": {
     "name": "#%%\n"
    }
   },
   "outputs": [],
   "source": [
    "import pandas as pd\n",
    "import numpy as np\n",
    "from sklearn #### Write here the sections that you'll load"
   ]
  },
  {
   "cell_type": "code",
   "execution_count": 6,
   "metadata": {
    "collapsed": false,
    "pycharm": {
     "name": "#%%\n"
    }
   },
   "outputs": [],
   "source": [
    "employee = pd.read_excel('testData.xlsx', sheet_name= 'employee')\n",
    "workday = pd.read_excel('testData.xlsx', sheet_name= 'workday')"
   ]
  },
  {
   "cell_type": "markdown",
   "metadata": {
    "collapsed": false,
    "pycharm": {
     "name": "#%% md\n"
    }
   },
   "source": []
  }
 ],
 "metadata": {
  "kernelspec": {
   "display_name": "Python 3.9.13 64-bit (microsoft store)",
   "language": "python",
   "name": "python3"
  },
  "language_info": {
   "codemirror_mode": {
    "name": "ipython",
    "version": 2
   },
   "file_extension": ".py",
   "mimetype": "text/x-python",
   "name": "python",
   "nbconvert_exporter": "python",
   "pygments_lexer": "ipython2",
   "version": "3.9.13 (tags/v3.9.13:6de2ca5, May 17 2022, 16:36:42) [MSC v.1929 64 bit (AMD64)]"
  },
  "vscode": {
   "interpreter": {
    "hash": "a00094f430d4e0bf31d8bcd1818e632624f2ff7a6dccccbf63d2a36832140da3"
   }
  }
 },
 "nbformat": 4,
 "nbformat_minor": 0
}
